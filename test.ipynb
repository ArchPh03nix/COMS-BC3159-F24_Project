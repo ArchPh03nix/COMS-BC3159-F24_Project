{
  "nbformat": 4,
  "nbformat_minor": 0,
  "metadata": {
    "colab": {
      "provenance": [],
      "gpuType": "T4"
    },
    "kernelspec": {
      "name": "python3",
      "display_name": "Python 3"
    },
    "language_info": {
      "name": "python"
    },
    "accelerator": "GPU"
  },
  "cells": [
    {
      "cell_type": "code",
      "source": [
        "!pip install pycuda"
      ],
      "metadata": {
        "colab": {
          "base_uri": "https://localhost:8080/"
        },
        "id": "DGXEKjLwusz5",
        "outputId": "12266ce6-0cff-4156-dcfb-69755ecef718"
      },
      "execution_count": 1,
      "outputs": [
        {
          "output_type": "stream",
          "name": "stdout",
          "text": [
            "Collecting pycuda\n",
            "  Downloading pycuda-2024.1.2.tar.gz (1.7 MB)\n",
            "\u001b[?25l     \u001b[90m━━━━━━━━━━━━━━━━━━━━━━━━━━━━━━━━━━━━━━━━\u001b[0m \u001b[32m0.0/1.7 MB\u001b[0m \u001b[31m?\u001b[0m eta \u001b[36m-:--:--\u001b[0m\r\u001b[2K     \u001b[91m━━━━━━━━\u001b[0m\u001b[90m╺\u001b[0m\u001b[90m━━━━━━━━━━━━━━━━━━━━━━━━━━━━━━━\u001b[0m \u001b[32m0.3/1.7 MB\u001b[0m \u001b[31m10.4 MB/s\u001b[0m eta \u001b[36m0:00:01\u001b[0m\r\u001b[2K     \u001b[91m━━━━━━━━━━━━━━━━━━━━━━━━━━━━━━━━━━━━━━━\u001b[0m\u001b[91m╸\u001b[0m \u001b[32m1.7/1.7 MB\u001b[0m \u001b[31m25.3 MB/s\u001b[0m eta \u001b[36m0:00:01\u001b[0m\r\u001b[2K     \u001b[90m━━━━━━━━━━━━━━━━━━━━━━━━━━━━━━━━━━━━━━━━\u001b[0m \u001b[32m1.7/1.7 MB\u001b[0m \u001b[31m18.2 MB/s\u001b[0m eta \u001b[36m0:00:00\u001b[0m\n",
            "\u001b[?25h  Installing build dependencies ... \u001b[?25l\u001b[?25hdone\n",
            "  Getting requirements to build wheel ... \u001b[?25l\u001b[?25hdone\n",
            "  Preparing metadata (pyproject.toml) ... \u001b[?25l\u001b[?25hdone\n",
            "Collecting pytools>=2011.2 (from pycuda)\n",
            "  Downloading pytools-2024.1.20-py3-none-any.whl.metadata (2.9 kB)\n",
            "Requirement already satisfied: platformdirs>=2.2.0 in /usr/local/lib/python3.10/dist-packages (from pycuda) (4.3.6)\n",
            "Collecting mako (from pycuda)\n",
            "  Downloading Mako-1.3.8-py3-none-any.whl.metadata (2.9 kB)\n",
            "Requirement already satisfied: typing-extensions>=4.5 in /usr/local/lib/python3.10/dist-packages (from pytools>=2011.2->pycuda) (4.12.2)\n",
            "Requirement already satisfied: MarkupSafe>=0.9.2 in /usr/local/lib/python3.10/dist-packages (from mako->pycuda) (3.0.2)\n",
            "Downloading pytools-2024.1.20-py3-none-any.whl (91 kB)\n",
            "\u001b[2K   \u001b[90m━━━━━━━━━━━━━━━━━━━━━━━━━━━━━━━━━━━━━━━━\u001b[0m \u001b[32m91.8/91.8 kB\u001b[0m \u001b[31m9.4 MB/s\u001b[0m eta \u001b[36m0:00:00\u001b[0m\n",
            "\u001b[?25hDownloading Mako-1.3.8-py3-none-any.whl (78 kB)\n",
            "\u001b[2K   \u001b[90m━━━━━━━━━━━━━━━━━━━━━━━━━━━━━━━━━━━━━━━━\u001b[0m \u001b[32m78.6/78.6 kB\u001b[0m \u001b[31m8.1 MB/s\u001b[0m eta \u001b[36m0:00:00\u001b[0m\n",
            "\u001b[?25hBuilding wheels for collected packages: pycuda\n",
            "  Building wheel for pycuda (pyproject.toml) ... \u001b[?25l\u001b[?25hdone\n",
            "  Created wheel for pycuda: filename=pycuda-2024.1.2-cp310-cp310-linux_x86_64.whl size=660545 sha256=b773e199467143f0067a967e26cf9e9e5f0b8420b144fbbc9a9071c26db3ee97\n",
            "  Stored in directory: /root/.cache/pip/wheels/70/63/40/4bf006182f942d3516b71bb2ff3b57ccbdb8b2c0ee81882b6e\n",
            "Successfully built pycuda\n",
            "Installing collected packages: pytools, mako, pycuda\n",
            "Successfully installed mako-1.3.8 pycuda-2024.1.2 pytools-2024.1.20\n"
          ]
        }
      ]
    },
    {
      "cell_type": "code",
      "execution_count": 2,
      "metadata": {
        "id": "ji98bsJquePL"
      },
      "outputs": [],
      "source": [
        "import numpy as np\n",
        "import pycuda.autoinit\n",
        "import pycuda.driver as cuda\n",
        "from pycuda.compiler import SourceModule\n",
        "\n",
        "# Define CUDA kernel\n",
        "cuda_code = \"\"\"\n",
        "__global__ void matrix_multiply(float *A, float *B, float *C, int N) {\n",
        "    int row = blockIdx.y * blockDim.y + threadIdx.y;\n",
        "    int col = blockIdx.x * blockDim.x + threadIdx.x;\n",
        "\n",
        "    if (row < N && col < N) {\n",
        "        float sum = 0.0f;\n",
        "        for (int k = 0; k < N; k++) {\n",
        "            sum += A[row * N + k] * B[k * N + col];\n",
        "        }\n",
        "        C[row * N + col] = sum;\n",
        "    }\n",
        "}\n",
        "\"\"\"\n",
        "\n",
        "class CUDAActuator:\n",
        "    def __init__(self):\n",
        "        # Compile CUDA kernel\n",
        "        self.mod = SourceModule(cuda_code)\n",
        "        self.matrix_multiply = self.mod.get_function(\"matrix_multiply\")\n",
        "\n",
        "    def multiply_matrices(self, A, B):\n",
        "        N = A.shape[0]\n",
        "        C = np.zeros((N, N), dtype=np.float32)\n",
        "\n",
        "        # Allocate memory on GPU\n",
        "        A_gpu = cuda.mem_alloc(A.nbytes)\n",
        "        B_gpu = cuda.mem_alloc(B.nbytes)\n",
        "        C_gpu = cuda.mem_alloc(C.nbytes)\n",
        "\n",
        "        # Copy data to GPU\n",
        "        cuda.memcpy_htod(A_gpu, A)\n",
        "        cuda.memcpy_htod(B_gpu, B)\n",
        "\n",
        "        # Define block and grid dimensions\n",
        "        block_dim = (16, 16, 1)\n",
        "        grid_dim = ((N + 15) // 16, (N + 15) // 16, 1)\n",
        "\n",
        "        # Execute kernel\n",
        "        self.matrix_multiply(A_gpu, B_gpu, C_gpu, np.int32(N),\n",
        "                           block=block_dim, grid=grid_dim)\n",
        "\n",
        "        # Copy result back to host\n",
        "        cuda.memcpy_dtoh(C, C_gpu)\n",
        "        return C\n"
      ]
    },
    {
      "cell_type": "code",
      "source": [
        "# Initialize actuator with CUDA support\n",
        "actuator = CUDAActuator()\n",
        "\n",
        "# Create sample matrices\n",
        "A = np.random.rand(4, 4).astype(np.float32)\n",
        "B = np.random.rand(4, 4).astype(np.float32)\n",
        "print(A)\n",
        "print(B)\n",
        "\n",
        "# Perform matrix multiplication on CPU\n",
        "h_result = np.matmul(A, B)\n",
        "print(\"h_result:\")\n",
        "print(h_result)\n",
        "\n",
        "# Perform matrix multiplication on GPU\n",
        "d_result = actuator.multiply_matrices(A, B)\n",
        "print(\"d_result:\")\n",
        "print(d_result)"
      ],
      "metadata": {
        "colab": {
          "base_uri": "https://localhost:8080/"
        },
        "id": "bu--4cTnujuv",
        "outputId": "fc797c3e-b660-4e86-c406-d3fa03f58609"
      },
      "execution_count": 3,
      "outputs": [
        {
          "output_type": "stream",
          "name": "stdout",
          "text": [
            "[[0.05291    0.97733176 0.5361534  0.61798185]\n",
            " [0.24420781 0.5090192  0.7932272  0.16055483]\n",
            " [0.8315346  0.49540794 0.2815539  0.88492393]\n",
            " [0.18592694 0.5563976  0.5870603  0.04864544]]\n",
            "[[0.23241186 0.9898964  0.13904348 0.23646586]\n",
            " [0.7213201  0.28595626 0.29019594 0.72134197]\n",
            " [0.26875418 0.0760897  0.70181626 0.86252254]\n",
            " [0.6638231  0.66124505 0.6225403  0.14939651]]\n",
            "h_result:\n",
            "[[1.2715901  0.7812828  1.0519743  1.2722706 ]\n",
            " [0.7436857  0.55382013 0.8383224  1.1330864 ]\n",
            " [1.2137079  1.5713731  1.0078847  0.92903924]\n",
            " [0.6346193  0.4199896  0.62960845 0.9589385 ]]\n",
            "d_result:\n",
            "[[1.2715901  0.7812828  1.0519743  1.2722706 ]\n",
            " [0.7436857  0.55382013 0.8383224  1.1330864 ]\n",
            " [1.2137079  1.5713731  1.0078847  0.92903924]\n",
            " [0.6346193  0.4199896  0.62960845 0.9589385 ]]\n"
          ]
        }
      ]
    },
    {
      "cell_type": "code",
      "source": [
        "import torch\n",
        "\n",
        "def check_gpu_usage():\n",
        "    if torch.cuda.is_available():\n",
        "        print('Memory Usage:')\n",
        "        print('Allocated:', f\"{(torch.cuda.memory_allocated(0)/1024**3):.20f}\", 'GB')\n",
        "        print('Cached:', f\"{(torch.cuda.memory_cached(0)/1024**3):.20f}\", 'GB')"
      ],
      "metadata": {
        "id": "jYHvQ3piBp7J"
      },
      "execution_count": 4,
      "outputs": []
    },
    {
      "cell_type": "code",
      "source": [
        "import numpy as np\n",
        "from src.core import Actuator\n",
        "import psutil\n",
        "\n",
        "# Create actuator\n",
        "actuator = Actuator(['z', [1., 0., 0.], 'z', [1., 0., 0.]])\n",
        "\n",
        "# Test forward kinematics\n",
        "actuator.angles = [np.pi / 6, np.pi / 3]\n",
        "check_gpu_usage()\n",
        "print(actuator.ee)\n",
        "check_gpu_usage()\n",
        "\n",
        "arm = Actuator(['z', [1., 0., 0.], 'z', [1., 0., 0.]])\n",
        "arm.ee = [2 / np.sqrt(2), 2 / np.sqrt(2), 0.]\n",
        "print(np.round(np.rad2deg(arm.angles)))\n",
        "\n",
        "\n"
      ],
      "metadata": {
        "colab": {
          "base_uri": "https://localhost:8080/",
          "height": 383
        },
        "id": "91ncQLfd6MiE",
        "outputId": "35ab88e4-ea9a-4f57-8ff1-6f6a7002df03"
      },
      "execution_count": 5,
      "outputs": [
        {
          "output_type": "error",
          "ename": "ModuleNotFoundError",
          "evalue": "No module named 'src'",
          "traceback": [
            "\u001b[0;31m---------------------------------------------------------------------------\u001b[0m",
            "\u001b[0;31mModuleNotFoundError\u001b[0m                       Traceback (most recent call last)",
            "\u001b[0;32m<ipython-input-5-050c1ad5d039>\u001b[0m in \u001b[0;36m<cell line: 2>\u001b[0;34m()\u001b[0m\n\u001b[1;32m      1\u001b[0m \u001b[0;32mimport\u001b[0m \u001b[0mnumpy\u001b[0m \u001b[0;32mas\u001b[0m \u001b[0mnp\u001b[0m\u001b[0;34m\u001b[0m\u001b[0;34m\u001b[0m\u001b[0m\n\u001b[0;32m----> 2\u001b[0;31m \u001b[0;32mfrom\u001b[0m \u001b[0msrc\u001b[0m\u001b[0;34m.\u001b[0m\u001b[0mcore\u001b[0m \u001b[0;32mimport\u001b[0m \u001b[0mActuator\u001b[0m\u001b[0;34m\u001b[0m\u001b[0;34m\u001b[0m\u001b[0m\n\u001b[0m\u001b[1;32m      3\u001b[0m \u001b[0;32mimport\u001b[0m \u001b[0mpsutil\u001b[0m\u001b[0;34m\u001b[0m\u001b[0;34m\u001b[0m\u001b[0m\n\u001b[1;32m      4\u001b[0m \u001b[0;34m\u001b[0m\u001b[0m\n\u001b[1;32m      5\u001b[0m \u001b[0;31m# Create actuator\u001b[0m\u001b[0;34m\u001b[0m\u001b[0;34m\u001b[0m\u001b[0m\n",
            "\u001b[0;31mModuleNotFoundError\u001b[0m: No module named 'src'",
            "",
            "\u001b[0;31m---------------------------------------------------------------------------\u001b[0;32m\nNOTE: If your import is failing due to a missing package, you can\nmanually install dependencies using either !pip or !apt.\n\nTo view examples of installing some common dependencies, click the\n\"Open Examples\" button below.\n\u001b[0;31m---------------------------------------------------------------------------\u001b[0m\n"
          ],
          "errorDetails": {
            "actions": [
              {
                "action": "open_url",
                "actionText": "Open Examples",
                "url": "/notebooks/snippets/importing_libraries.ipynb"
              }
            ]
          }
        }
      ]
    }
  ]
}